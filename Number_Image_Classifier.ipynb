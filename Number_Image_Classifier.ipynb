{
  "nbformat": 4,
  "nbformat_minor": 0,
  "metadata": {
    "colab": {
      "provenance": []
    },
    "kernelspec": {
      "name": "python3",
      "display_name": "Python 3"
    },
    "language_info": {
      "name": "python"
    }
  },
  "cells": [
    {
      "cell_type": "code",
      "execution_count": 1,
      "metadata": {
        "id": "EF6SCRypPTDw"
      },
      "outputs": [],
      "source": [
        "import numpy as np\n",
        "import pandas as pd\n",
        "from sklearn.datasets import fetch_openml\n",
        "from sklearn.model_selection import train_test_split\n"
      ]
    },
    {
      "cell_type": "markdown",
      "source": [
        "# PART 1:"
      ],
      "metadata": {
        "id": "1YCZMxMWdlTE"
      }
    },
    {
      "cell_type": "code",
      "source": [
        "data_full = pd.read_csv('/media/mnist_dataset (1) (1).csv')\n",
        "\n",
        "# Checking the first few rows to understand the structure\n",
        "print(data_full.head())\n"
      ],
      "metadata": {
        "colab": {
          "base_uri": "https://localhost:8080/"
        },
        "id": "ddU03btoQslo",
        "outputId": "835ceb2a-4b36-4312-961d-4d3fd300abe0"
      },
      "execution_count": 3,
      "outputs": [
        {
          "output_type": "stream",
          "name": "stdout",
          "text": [
            "   5  0  0.1  0.2  0.3  0.4  0.5  0.6  0.7  0.8  ...  0.608  0.609  0.610  \\\n",
            "0  0  0    0    0    0    0    0    0    0    0  ...      0      0      0   \n",
            "1  4  0    0    0    0    0    0    0    0    0  ...      0      0      0   \n",
            "2  1  0    0    0    0    0    0    0    0    0  ...      0      0      0   \n",
            "3  9  0    0    0    0    0    0    0    0    0  ...      0      0      0   \n",
            "4  2  0    0    0    0    0    0    0    0    0  ...      0      0      0   \n",
            "\n",
            "   0.611  0.612  0.613  0.614  0.615  0.616  0.617  \n",
            "0      0      0      0      0      0      0      0  \n",
            "1      0      0      0      0      0      0      0  \n",
            "2      0      0      0      0      0      0      0  \n",
            "3      0      0      0      0      0      0      0  \n",
            "4      0      0      0      0      0      0      0  \n",
            "\n",
            "[5 rows x 785 columns]\n"
          ]
        }
      ]
    },
    {
      "cell_type": "code",
      "source": [
        "# Rename the first column to 'label'\n",
        "data_full = data_full.rename(columns={data_full.columns[0]: 'label'})\n",
        "\n",
        "# Verify the column names\n",
        "print(\"Column names:\", data_full.columns.tolist())\n"
      ],
      "metadata": {
        "colab": {
          "base_uri": "https://localhost:8080/"
        },
        "id": "K3rTAuIgQ4l4",
        "outputId": "75f7104e-f047-4b94-e056-a436ab6ac6d9"
      },
      "execution_count": 4,
      "outputs": [
        {
          "output_type": "stream",
          "name": "stdout",
          "text": [
            "Column names: ['label', '0', '0.1', '0.2', '0.3', '0.4', '0.5', '0.6', '0.7', '0.8', '0.9', '0.10', '0.11', '0.12', '0.13', '0.14', '0.15', '0.16', '0.17', '0.18', '0.19', '0.20', '0.21', '0.22', '0.23', '0.24', '0.25', '0.26', '0.27', '0.28', '0.29', '0.30', '0.31', '0.32', '0.33', '0.34', '0.35', '0.36', '0.37', '0.38', '0.39', '0.40', '0.41', '0.42', '0.43', '0.44', '0.45', '0.46', '0.47', '0.48', '0.49', '0.50', '0.51', '0.52', '0.53', '0.54', '0.55', '0.56', '0.57', '0.58', '0.59', '0.60', '0.61', '0.62', '0.63', '0.64', '0.65', '0.66', '0.67', '0.68', '0.69', '0.70', '0.71', '0.72', '0.73', '0.74', '0.75', '0.76', '0.77', '0.78', '0.79', '0.80', '0.81', '0.82', '0.83', '0.84', '0.85', '0.86', '0.87', '0.88', '0.89', '0.90', '0.91', '0.92', '0.93', '0.94', '0.95', '0.96', '0.97', '0.98', '0.99', '0.100', '0.101', '0.102', '0.103', '0.104', '0.105', '0.106', '0.107', '0.108', '0.109', '0.110', '0.111', '0.112', '0.113', '0.114', '0.115', '0.116', '0.117', '0.118', '0.119', '0.120', '0.121', '0.122', '0.123', '0.124', '0.125', '0.126', '0.127', '0.128', '0.129', '0.130', '0.131', '0.132', '0.133', '0.134', '0.135', '0.136', '0.137', '0.138', '0.139', '0.140', '0.141', '0.142', '0.143', '0.144', '0.145', '0.146', '0.147', '0.148', '0.149', '0.150', '0.151', '3', '18', '18.1', '18.2', '126', '136', '175', '26', '166', '255', '247', '127', '0.152', '0.153', '0.154', '0.155', '0.156', '0.157', '0.158', '0.159', '0.160', '0.161', '0.162', '0.163', '30', '36', '94', '154', '170', '253', '253.1', '253.2', '253.3', '253.4', '225', '172', '253.5', '242', '195', '64', '0.164', '0.165', '0.166', '0.167', '0.168', '0.169', '0.170', '0.171', '0.172', '0.173', '0.174', '49', '238', '253.6', '253.7', '253.8', '253.9', '253.10', '253.11', '253.12', '253.13', '251', '93', '82', '82.1', '56', '39', '0.175', '0.176', '0.177', '0.178', '0.179', '0.180', '0.181', '0.182', '0.183', '0.184', '0.185', '0.186', '18.3', '219', '253.14', '253.15', '253.16', '253.17', '253.18', '198', '182', '247.1', '241', '0.187', '0.188', '0.189', '0.190', '0.191', '0.192', '0.193', '0.194', '0.195', '0.196', '0.197', '0.198', '0.199', '0.200', '0.201', '0.202', '0.203', '0.204', '80', '156', '107', '253.19', '253.20', '205', '11', '0.205', '43', '154.1', '0.206', '0.207', '0.208', '0.209', '0.210', '0.211', '0.212', '0.213', '0.214', '0.215', '0.216', '0.217', '0.218', '0.219', '0.220', '0.221', '0.222', '0.223', '0.224', '14', '1', '154.2', '253.21', '90', '0.225', '0.226', '0.227', '0.228', '0.229', '0.230', '0.231', '0.232', '0.233', '0.234', '0.235', '0.236', '0.237', '0.238', '0.239', '0.240', '0.241', '0.242', '0.243', '0.244', '0.245', '0.246', '0.247', '0.248', '0.249', '139', '253.22', '190', '2', '0.250', '0.251', '0.252', '0.253', '0.254', '0.255', '0.256', '0.257', '0.258', '0.259', '0.260', '0.261', '0.262', '0.263', '0.264', '0.265', '0.266', '0.267', '0.268', '0.269', '0.270', '0.271', '0.272', '0.273', '11.1', '190.1', '253.23', '70', '0.274', '0.275', '0.276', '0.277', '0.278', '0.279', '0.280', '0.281', '0.282', '0.283', '0.284', '0.285', '0.286', '0.287', '0.288', '0.289', '0.290', '0.291', '0.292', '0.293', '0.294', '0.295', '0.296', '0.297', '0.298', '35', '241.1', '225.1', '160', '108', '1.1', '0.299', '0.300', '0.301', '0.302', '0.303', '0.304', '0.305', '0.306', '0.307', '0.308', '0.309', '0.310', '0.311', '0.312', '0.313', '0.314', '0.315', '0.316', '0.317', '0.318', '0.319', '0.320', '0.321', '81', '240', '253.24', '253.25', '119', '25', '0.322', '0.323', '0.324', '0.325', '0.326', '0.327', '0.328', '0.329', '0.330', '0.331', '0.332', '0.333', '0.334', '0.335', '0.336', '0.337', '0.338', '0.339', '0.340', '0.341', '0.342', '0.343', '0.344', '45', '186', '253.26', '253.27', '150', '27', '0.345', '0.346', '0.347', '0.348', '0.349', '0.350', '0.351', '0.352', '0.353', '0.354', '0.355', '0.356', '0.357', '0.358', '0.359', '0.360', '0.361', '0.362', '0.363', '0.364', '0.365', '0.366', '0.367', '16', '93.1', '252', '253.28', '187', '0.368', '0.369', '0.370', '0.371', '0.372', '0.373', '0.374', '0.375', '0.376', '0.377', '0.378', '0.379', '0.380', '0.381', '0.382', '0.383', '0.384', '0.385', '0.386', '0.387', '0.388', '0.389', '0.390', '0.391', '0.392', '249', '253.29', '249.1', '64.1', '0.393', '0.394', '0.395', '0.396', '0.397', '0.398', '0.399', '0.400', '0.401', '0.402', '0.403', '0.404', '0.405', '0.406', '0.407', '0.408', '0.409', '0.410', '0.411', '0.412', '0.413', '46', '130', '183', '253.30', '253.31', '207', '2.1', '0.414', '0.415', '0.416', '0.417', '0.418', '0.419', '0.420', '0.421', '0.422', '0.423', '0.424', '0.425', '0.426', '0.427', '0.428', '0.429', '0.430', '0.431', '0.432', '39.1', '148', '229', '253.32', '253.33', '253.34', '250', '182.1', '0.433', '0.434', '0.435', '0.436', '0.437', '0.438', '0.439', '0.440', '0.441', '0.442', '0.443', '0.444', '0.445', '0.446', '0.447', '0.448', '0.449', '0.450', '24', '114', '221', '253.35', '253.36', '253.37', '253.38', '201', '78', '0.451', '0.452', '0.453', '0.454', '0.455', '0.456', '0.457', '0.458', '0.459', '0.460', '0.461', '0.462', '0.463', '0.464', '0.465', '0.466', '0.467', '23', '66', '213', '253.39', '253.40', '253.41', '253.42', '198.1', '81.1', '2.2', '0.468', '0.469', '0.470', '0.471', '0.472', '0.473', '0.474', '0.475', '0.476', '0.477', '0.478', '0.479', '0.480', '0.481', '0.482', '0.483', '18.4', '171', '219.1', '253.43', '253.44', '253.45', '253.46', '195.1', '80.1', '9', '0.484', '0.485', '0.486', '0.487', '0.488', '0.489', '0.490', '0.491', '0.492', '0.493', '0.494', '0.495', '0.496', '0.497', '0.498', '0.499', '55', '172.1', '226', '253.47', '253.48', '253.49', '253.50', '244', '133', '11.2', '0.500', '0.501', '0.502', '0.503', '0.504', '0.505', '0.506', '0.507', '0.508', '0.509', '0.510', '0.511', '0.512', '0.513', '0.514', '0.515', '0.516', '0.517', '136.1', '253.51', '253.52', '253.53', '212', '135', '132', '16.1', '0.518', '0.519', '0.520', '0.521', '0.522', '0.523', '0.524', '0.525', '0.526', '0.527', '0.528', '0.529', '0.530', '0.531', '0.532', '0.533', '0.534', '0.535', '0.536', '0.537', '0.538', '0.539', '0.540', '0.541', '0.542', '0.543', '0.544', '0.545', '0.546', '0.547', '0.548', '0.549', '0.550', '0.551', '0.552', '0.553', '0.554', '0.555', '0.556', '0.557', '0.558', '0.559', '0.560', '0.561', '0.562', '0.563', '0.564', '0.565', '0.566', '0.567', '0.568', '0.569', '0.570', '0.571', '0.572', '0.573', '0.574', '0.575', '0.576', '0.577', '0.578', '0.579', '0.580', '0.581', '0.582', '0.583', '0.584', '0.585', '0.586', '0.587', '0.588', '0.589', '0.590', '0.591', '0.592', '0.593', '0.594', '0.595', '0.596', '0.597', '0.598', '0.599', '0.600', '0.601', '0.602', '0.603', '0.604', '0.605', '0.606', '0.607', '0.608', '0.609', '0.610', '0.611', '0.612', '0.613', '0.614', '0.615', '0.616', '0.617']\n"
          ]
        }
      ]
    },
    {
      "cell_type": "code",
      "source": [
        "# Convert column names to strings\n",
        "data_full.columns = data_full.columns.astype(str)\n"
      ],
      "metadata": {
        "id": "PRY8cK0ISKAR"
      },
      "execution_count": 5,
      "outputs": []
    },
    {
      "cell_type": "code",
      "source": [
        "# Check data types\n",
        "print(data_full.dtypes)\n",
        "\n",
        "# Convert all columns except 'label' to numeric\n",
        "feature_columns = data_full.columns.drop('label')\n",
        "data_full[feature_columns] = data_full[feature_columns].apply(pd.to_numeric)\n"
      ],
      "metadata": {
        "colab": {
          "base_uri": "https://localhost:8080/"
        },
        "id": "QabWgq17SMx0",
        "outputId": "a08134d1-ac02-4171-eb1c-4f8eef36a416"
      },
      "execution_count": 6,
      "outputs": [
        {
          "output_type": "stream",
          "name": "stdout",
          "text": [
            "label    int64\n",
            "0        int64\n",
            "0.1      int64\n",
            "0.2      int64\n",
            "0.3      int64\n",
            "         ...  \n",
            "0.613    int64\n",
            "0.614    int64\n",
            "0.615    int64\n",
            "0.616    int64\n",
            "0.617    int64\n",
            "Length: 785, dtype: object\n"
          ]
        }
      ]
    },
    {
      "cell_type": "code",
      "source": [
        "# Exclude the label column\n",
        "predictor_columns = data_full.columns.drop('label')\n",
        "\n",
        "# Calculate the proportion of non-zero entries for each column\n",
        "non_zero_proportions = (data_full[predictor_columns] != 0).mean()\n",
        "\n",
        "# Select columns with at least 30% non-zero entries\n",
        "columns_with_enough_non_zero = non_zero_proportions[non_zero_proportions >= 0.30].index.tolist()\n",
        "\n",
        "# Check if we have at least 50 columns to choose from\n",
        "if len(columns_with_enough_non_zero) < 50:\n",
        "    print(f\"Only {len(columns_with_enough_non_zero)} columns have at least 30% non-zero values.\")\n",
        "    # Select the top 50 columns with the highest non-zero proportions\n",
        "    columns_with_enough_non_zero = non_zero_proportions.sort_values(ascending=False).head(50).index.tolist()\n",
        "else:\n",
        "    # Randomly select 50 columns from these columns\n",
        "    np.random.seed(42)  # For reproducibility\n",
        "    columns_with_enough_non_zero = np.random.choice(columns_with_enough_non_zero, size=50, replace=False)\n",
        "\n",
        "# Create a new DataFrame with the label and selected predictor columns\n",
        "data_selected = data_full[['label'] + list(columns_with_enough_non_zero)]\n"
      ],
      "metadata": {
        "id": "oRjiWcXoSQQK"
      },
      "execution_count": 7,
      "outputs": []
    },
    {
      "cell_type": "code",
      "source": [
        "# Separate features and labels\n",
        "X = data_selected.drop('label', axis=1)\n",
        "y = data_selected['label']\n",
        "\n",
        "# Split into training (70%) and temporary (30%) sets\n",
        "X_train, X_temp, y_train, y_temp = train_test_split(\n",
        "    X, y, test_size=0.30, random_state=42, stratify=y\n",
        ")\n",
        "\n",
        "# Split the temporary set equally into validation (15%) and test (15%) sets\n",
        "X_val, X_test, y_val, y_test = train_test_split(\n",
        "    X_temp, y_temp, test_size=0.50, random_state=42, stratify=y_temp\n",
        ")\n",
        "\n",
        "# Display the sizes of each set\n",
        "print(\"Training set size:\", X_train.shape[0])\n",
        "print(\"Validation set size:\", X_val.shape[0])\n",
        "print(\"Test set size:\", X_test.shape[0])\n"
      ],
      "metadata": {
        "colab": {
          "base_uri": "https://localhost:8080/"
        },
        "id": "J8XtNfaLSVx1",
        "outputId": "44290694-d7f0-4e4a-ad90-795ec394699a"
      },
      "execution_count": 8,
      "outputs": [
        {
          "output_type": "stream",
          "name": "stdout",
          "text": [
            "Training set size: 41999\n",
            "Validation set size: 9000\n",
            "Test set size: 9000\n"
          ]
        }
      ]
    },
    {
      "cell_type": "markdown",
      "source": [
        "# **PART 2:**"
      ],
      "metadata": {
        "id": "XxApPd-TSqWQ"
      }
    },
    {
      "cell_type": "code",
      "source": [
        "# Normalize the features to [0, 1]\n",
        "X_train_scaled = X_train / 255.0\n",
        "X_val_scaled = X_val / 255.0\n",
        "X_test_scaled = X_test / 255.0\n"
      ],
      "metadata": {
        "id": "0AG4Sh2KSaNk"
      },
      "execution_count": 9,
      "outputs": []
    },
    {
      "cell_type": "code",
      "source": [
        "from sklearn.neighbors import KNeighborsClassifier\n",
        "from sklearn.metrics import accuracy_score\n",
        "\n",
        "# Define the parameter grid\n",
        "k_values = [3, 5, 7, 9]\n",
        "weights_options = ['uniform', 'distance']\n",
        "metric_options = ['euclidean', 'manhattan']\n",
        "\n",
        "best_accuracy = 0\n",
        "best_params = {}\n",
        "\n",
        "for k in k_values:\n",
        "    for weight in weights_options:\n",
        "        for metric in metric_options:\n",
        "            knn = KNeighborsClassifier(\n",
        "                n_neighbors=k, weights=weight, metric=metric\n",
        "            )\n",
        "            knn.fit(X_train_scaled, y_train)\n",
        "            y_val_pred = knn.predict(X_val_scaled)\n",
        "            accuracy = accuracy_score(y_val, y_val_pred)\n",
        "            print(\n",
        "                f\"k={k}, weights={weight}, metric={metric}, val_accuracy={accuracy:.4f}\"\n",
        "            )\n",
        "            if accuracy > best_accuracy:\n",
        "                best_accuracy = accuracy\n",
        "                best_params = {\n",
        "                    'n_neighbors': k,\n",
        "                    'weights': weight,\n",
        "                    'metric': metric\n",
        "                }\n",
        "\n",
        "print(\"\\nBest Validation Accuracy:\", best_accuracy)\n",
        "print(\"Best Hyperparameters:\", best_params)\n"
      ],
      "metadata": {
        "colab": {
          "base_uri": "https://localhost:8080/"
        },
        "id": "cKJVuvF0Sw-R",
        "outputId": "cbe093e1-a659-4e19-abb5-3fb8079cce46"
      },
      "execution_count": 10,
      "outputs": [
        {
          "output_type": "stream",
          "name": "stdout",
          "text": [
            "k=3, weights=uniform, metric=euclidean, val_accuracy=0.9170\n",
            "k=3, weights=uniform, metric=manhattan, val_accuracy=0.9076\n",
            "k=3, weights=distance, metric=euclidean, val_accuracy=0.9200\n",
            "k=3, weights=distance, metric=manhattan, val_accuracy=0.9114\n",
            "k=5, weights=uniform, metric=euclidean, val_accuracy=0.9192\n",
            "k=5, weights=uniform, metric=manhattan, val_accuracy=0.9062\n",
            "k=5, weights=distance, metric=euclidean, val_accuracy=0.9227\n",
            "k=5, weights=distance, metric=manhattan, val_accuracy=0.9112\n",
            "k=7, weights=uniform, metric=euclidean, val_accuracy=0.9164\n",
            "k=7, weights=uniform, metric=manhattan, val_accuracy=0.9050\n",
            "k=7, weights=distance, metric=euclidean, val_accuracy=0.9186\n",
            "k=7, weights=distance, metric=manhattan, val_accuracy=0.9093\n",
            "k=9, weights=uniform, metric=euclidean, val_accuracy=0.9160\n",
            "k=9, weights=uniform, metric=manhattan, val_accuracy=0.9032\n",
            "k=9, weights=distance, metric=euclidean, val_accuracy=0.9188\n",
            "k=9, weights=distance, metric=manhattan, val_accuracy=0.9084\n",
            "\n",
            "Best Validation Accuracy: 0.9226666666666666\n",
            "Best Hyperparameters: {'n_neighbors': 5, 'weights': 'distance', 'metric': 'euclidean'}\n"
          ]
        }
      ]
    },
    {
      "cell_type": "code",
      "source": [
        "# Retrain KNN with the best hyperparameters on the training set\n",
        "best_knn = KNeighborsClassifier(**best_params)\n",
        "best_knn.fit(X_train_scaled, y_train)\n",
        "\n",
        "# Test the model\n",
        "y_test_pred_knn = best_knn.predict(X_test_scaled)\n",
        "\n",
        "# Calculate metrics\n",
        "from sklearn.metrics import classification_report\n",
        "\n",
        "print(\"KNN Classification Report on Test Set:\")\n",
        "print(classification_report(y_test, y_test_pred_knn))\n"
      ],
      "metadata": {
        "colab": {
          "base_uri": "https://localhost:8080/"
        },
        "id": "maZ_wvCvTtXI",
        "outputId": "2cde2fac-b0d5-498b-bbb9-a9b1097b5128"
      },
      "execution_count": 11,
      "outputs": [
        {
          "output_type": "stream",
          "name": "stdout",
          "text": [
            "KNN Classification Report on Test Set:\n",
            "              precision    recall  f1-score   support\n",
            "\n",
            "           0       0.95      0.98      0.96       888\n",
            "           1       0.92      0.99      0.95      1011\n",
            "           2       0.95      0.93      0.94       893\n",
            "           3       0.89      0.91      0.90       920\n",
            "           4       0.94      0.91      0.92       877\n",
            "           5       0.89      0.87      0.88       813\n",
            "           6       0.96      0.96      0.96       888\n",
            "           7       0.92      0.92      0.92       940\n",
            "           8       0.96      0.87      0.91       877\n",
            "           9       0.89      0.91      0.90       893\n",
            "\n",
            "    accuracy                           0.93      9000\n",
            "   macro avg       0.93      0.93      0.93      9000\n",
            "weighted avg       0.93      0.93      0.93      9000\n",
            "\n"
          ]
        }
      ]
    },
    {
      "cell_type": "markdown",
      "source": [
        "# PART 3:"
      ],
      "metadata": {
        "id": "jAm-kRn9T3ej"
      }
    },
    {
      "cell_type": "code",
      "source": [
        "from sklearn.preprocessing import StandardScaler\n",
        "\n",
        "# Initialize the scaler\n",
        "scaler = StandardScaler()\n",
        "\n",
        "# Fit on the training data\n",
        "scaler.fit(X_train)\n",
        "\n",
        "# Transform the data\n",
        "X_train_scaled = scaler.transform(X_train)\n",
        "X_val_scaled = scaler.transform(X_val)\n",
        "X_test_scaled = scaler.transform(X_test)\n"
      ],
      "metadata": {
        "id": "ugzlpnLYTzfb"
      },
      "execution_count": 12,
      "outputs": []
    },
    {
      "cell_type": "code",
      "source": [
        "from sklearn.neural_network import MLPClassifier\n",
        "from sklearn.metrics import accuracy_score\n",
        "\n",
        "# Define the parameter grid\n",
        "hidden_layer_sizes_options = [(50,), (100,), (50, 50)]\n",
        "activation_options = ['tanh', 'relu']\n",
        "solver_options = ['sgd', 'adam']\n",
        "learning_rate_init_options = [0.001, 0.01]\n",
        "\n",
        "best_accuracy = 0\n",
        "best_params = {}\n",
        "\n",
        "for hidden_layer_sizes in hidden_layer_sizes_options:\n",
        "    for activation in activation_options:\n",
        "        for solver in solver_options:\n",
        "            for learning_rate_init in learning_rate_init_options:\n",
        "                mlp = MLPClassifier(\n",
        "                    hidden_layer_sizes=hidden_layer_sizes,\n",
        "                    activation=activation,\n",
        "                    solver=solver,\n",
        "                    learning_rate_init=learning_rate_init,\n",
        "                    max_iter=200,\n",
        "                    random_state=42\n",
        "                )\n",
        "                mlp.fit(X_train_scaled, y_train)\n",
        "                y_val_pred = mlp.predict(X_val_scaled)\n",
        "                accuracy = accuracy_score(y_val, y_val_pred)\n",
        "                print(\n",
        "                    f\"hidden_layer_sizes={hidden_layer_sizes}, activation={activation}, solver={solver}, learning_rate_init={learning_rate_init}, val_accuracy={accuracy:.4f}\"\n",
        "                )\n",
        "                if accuracy > best_accuracy:\n",
        "                    best_accuracy = accuracy\n",
        "                    best_params = {\n",
        "                        'hidden_layer_sizes': hidden_layer_sizes,\n",
        "                        'activation': activation,\n",
        "                        'solver': solver,\n",
        "                        'learning_rate_init': learning_rate_init\n",
        "                    }\n",
        "\n",
        "print(\"\\nBest Validation Accuracy:\", best_accuracy)\n",
        "print(\"Best Hyperparameters:\", best_params)\n"
      ],
      "metadata": {
        "colab": {
          "base_uri": "https://localhost:8080/"
        },
        "id": "8DjmRPJVT_Kl",
        "outputId": "7364053f-97f3-4dc3-e7de-16a40d17bbf7"
      },
      "execution_count": 13,
      "outputs": [
        {
          "output_type": "stream",
          "name": "stderr",
          "text": [
            "/usr/local/lib/python3.10/dist-packages/sklearn/neural_network/_multilayer_perceptron.py:690: ConvergenceWarning: Stochastic Optimizer: Maximum iterations (200) reached and the optimization hasn't converged yet.\n",
            "  warnings.warn(\n"
          ]
        },
        {
          "output_type": "stream",
          "name": "stdout",
          "text": [
            "hidden_layer_sizes=(50,), activation=tanh, solver=sgd, learning_rate_init=0.001, val_accuracy=0.8924\n"
          ]
        },
        {
          "output_type": "stream",
          "name": "stderr",
          "text": [
            "/usr/local/lib/python3.10/dist-packages/sklearn/neural_network/_multilayer_perceptron.py:690: ConvergenceWarning: Stochastic Optimizer: Maximum iterations (200) reached and the optimization hasn't converged yet.\n",
            "  warnings.warn(\n"
          ]
        },
        {
          "output_type": "stream",
          "name": "stdout",
          "text": [
            "hidden_layer_sizes=(50,), activation=tanh, solver=sgd, learning_rate_init=0.01, val_accuracy=0.9150\n"
          ]
        },
        {
          "output_type": "stream",
          "name": "stderr",
          "text": [
            "/usr/local/lib/python3.10/dist-packages/sklearn/neural_network/_multilayer_perceptron.py:690: ConvergenceWarning: Stochastic Optimizer: Maximum iterations (200) reached and the optimization hasn't converged yet.\n",
            "  warnings.warn(\n"
          ]
        },
        {
          "output_type": "stream",
          "name": "stdout",
          "text": [
            "hidden_layer_sizes=(50,), activation=tanh, solver=adam, learning_rate_init=0.001, val_accuracy=0.9169\n"
          ]
        },
        {
          "output_type": "stream",
          "name": "stderr",
          "text": [
            "/usr/local/lib/python3.10/dist-packages/sklearn/neural_network/_multilayer_perceptron.py:690: ConvergenceWarning: Stochastic Optimizer: Maximum iterations (200) reached and the optimization hasn't converged yet.\n",
            "  warnings.warn(\n"
          ]
        },
        {
          "output_type": "stream",
          "name": "stdout",
          "text": [
            "hidden_layer_sizes=(50,), activation=tanh, solver=adam, learning_rate_init=0.01, val_accuracy=0.8927\n"
          ]
        },
        {
          "output_type": "stream",
          "name": "stderr",
          "text": [
            "/usr/local/lib/python3.10/dist-packages/sklearn/neural_network/_multilayer_perceptron.py:690: ConvergenceWarning: Stochastic Optimizer: Maximum iterations (200) reached and the optimization hasn't converged yet.\n",
            "  warnings.warn(\n"
          ]
        },
        {
          "output_type": "stream",
          "name": "stdout",
          "text": [
            "hidden_layer_sizes=(50,), activation=relu, solver=sgd, learning_rate_init=0.001, val_accuracy=0.9108\n"
          ]
        },
        {
          "output_type": "stream",
          "name": "stderr",
          "text": [
            "/usr/local/lib/python3.10/dist-packages/sklearn/neural_network/_multilayer_perceptron.py:690: ConvergenceWarning: Stochastic Optimizer: Maximum iterations (200) reached and the optimization hasn't converged yet.\n",
            "  warnings.warn(\n"
          ]
        },
        {
          "output_type": "stream",
          "name": "stdout",
          "text": [
            "hidden_layer_sizes=(50,), activation=relu, solver=sgd, learning_rate_init=0.01, val_accuracy=0.9250\n"
          ]
        },
        {
          "output_type": "stream",
          "name": "stderr",
          "text": [
            "/usr/local/lib/python3.10/dist-packages/sklearn/neural_network/_multilayer_perceptron.py:690: ConvergenceWarning: Stochastic Optimizer: Maximum iterations (200) reached and the optimization hasn't converged yet.\n",
            "  warnings.warn(\n"
          ]
        },
        {
          "output_type": "stream",
          "name": "stdout",
          "text": [
            "hidden_layer_sizes=(50,), activation=relu, solver=adam, learning_rate_init=0.001, val_accuracy=0.9243\n",
            "hidden_layer_sizes=(50,), activation=relu, solver=adam, learning_rate_init=0.01, val_accuracy=0.9239\n"
          ]
        },
        {
          "output_type": "stream",
          "name": "stderr",
          "text": [
            "/usr/local/lib/python3.10/dist-packages/sklearn/neural_network/_multilayer_perceptron.py:690: ConvergenceWarning: Stochastic Optimizer: Maximum iterations (200) reached and the optimization hasn't converged yet.\n",
            "  warnings.warn(\n"
          ]
        },
        {
          "output_type": "stream",
          "name": "stdout",
          "text": [
            "hidden_layer_sizes=(100,), activation=tanh, solver=sgd, learning_rate_init=0.001, val_accuracy=0.9057\n"
          ]
        },
        {
          "output_type": "stream",
          "name": "stderr",
          "text": [
            "/usr/local/lib/python3.10/dist-packages/sklearn/neural_network/_multilayer_perceptron.py:690: ConvergenceWarning: Stochastic Optimizer: Maximum iterations (200) reached and the optimization hasn't converged yet.\n",
            "  warnings.warn(\n"
          ]
        },
        {
          "output_type": "stream",
          "name": "stdout",
          "text": [
            "hidden_layer_sizes=(100,), activation=tanh, solver=sgd, learning_rate_init=0.01, val_accuracy=0.9257\n"
          ]
        },
        {
          "output_type": "stream",
          "name": "stderr",
          "text": [
            "/usr/local/lib/python3.10/dist-packages/sklearn/neural_network/_multilayer_perceptron.py:690: ConvergenceWarning: Stochastic Optimizer: Maximum iterations (200) reached and the optimization hasn't converged yet.\n",
            "  warnings.warn(\n"
          ]
        },
        {
          "output_type": "stream",
          "name": "stdout",
          "text": [
            "hidden_layer_sizes=(100,), activation=tanh, solver=adam, learning_rate_init=0.001, val_accuracy=0.9127\n",
            "hidden_layer_sizes=(100,), activation=tanh, solver=adam, learning_rate_init=0.01, val_accuracy=0.8982\n"
          ]
        },
        {
          "output_type": "stream",
          "name": "stderr",
          "text": [
            "/usr/local/lib/python3.10/dist-packages/sklearn/neural_network/_multilayer_perceptron.py:690: ConvergenceWarning: Stochastic Optimizer: Maximum iterations (200) reached and the optimization hasn't converged yet.\n",
            "  warnings.warn(\n"
          ]
        },
        {
          "output_type": "stream",
          "name": "stdout",
          "text": [
            "hidden_layer_sizes=(100,), activation=relu, solver=sgd, learning_rate_init=0.001, val_accuracy=0.9257\n"
          ]
        },
        {
          "output_type": "stream",
          "name": "stderr",
          "text": [
            "/usr/local/lib/python3.10/dist-packages/sklearn/neural_network/_multilayer_perceptron.py:690: ConvergenceWarning: Stochastic Optimizer: Maximum iterations (200) reached and the optimization hasn't converged yet.\n",
            "  warnings.warn(\n"
          ]
        },
        {
          "output_type": "stream",
          "name": "stdout",
          "text": [
            "hidden_layer_sizes=(100,), activation=relu, solver=sgd, learning_rate_init=0.01, val_accuracy=0.9337\n"
          ]
        },
        {
          "output_type": "stream",
          "name": "stderr",
          "text": [
            "/usr/local/lib/python3.10/dist-packages/sklearn/neural_network/_multilayer_perceptron.py:690: ConvergenceWarning: Stochastic Optimizer: Maximum iterations (200) reached and the optimization hasn't converged yet.\n",
            "  warnings.warn(\n"
          ]
        },
        {
          "output_type": "stream",
          "name": "stdout",
          "text": [
            "hidden_layer_sizes=(100,), activation=relu, solver=adam, learning_rate_init=0.001, val_accuracy=0.9278\n",
            "hidden_layer_sizes=(100,), activation=relu, solver=adam, learning_rate_init=0.01, val_accuracy=0.9247\n"
          ]
        },
        {
          "output_type": "stream",
          "name": "stderr",
          "text": [
            "/usr/local/lib/python3.10/dist-packages/sklearn/neural_network/_multilayer_perceptron.py:690: ConvergenceWarning: Stochastic Optimizer: Maximum iterations (200) reached and the optimization hasn't converged yet.\n",
            "  warnings.warn(\n"
          ]
        },
        {
          "output_type": "stream",
          "name": "stdout",
          "text": [
            "hidden_layer_sizes=(50, 50), activation=tanh, solver=sgd, learning_rate_init=0.001, val_accuracy=0.9138\n"
          ]
        },
        {
          "output_type": "stream",
          "name": "stderr",
          "text": [
            "/usr/local/lib/python3.10/dist-packages/sklearn/neural_network/_multilayer_perceptron.py:690: ConvergenceWarning: Stochastic Optimizer: Maximum iterations (200) reached and the optimization hasn't converged yet.\n",
            "  warnings.warn(\n"
          ]
        },
        {
          "output_type": "stream",
          "name": "stdout",
          "text": [
            "hidden_layer_sizes=(50, 50), activation=tanh, solver=sgd, learning_rate_init=0.01, val_accuracy=0.9173\n"
          ]
        },
        {
          "output_type": "stream",
          "name": "stderr",
          "text": [
            "/usr/local/lib/python3.10/dist-packages/sklearn/neural_network/_multilayer_perceptron.py:690: ConvergenceWarning: Stochastic Optimizer: Maximum iterations (200) reached and the optimization hasn't converged yet.\n",
            "  warnings.warn(\n"
          ]
        },
        {
          "output_type": "stream",
          "name": "stdout",
          "text": [
            "hidden_layer_sizes=(50, 50), activation=tanh, solver=adam, learning_rate_init=0.001, val_accuracy=0.9077\n",
            "hidden_layer_sizes=(50, 50), activation=tanh, solver=adam, learning_rate_init=0.01, val_accuracy=0.8848\n"
          ]
        },
        {
          "output_type": "stream",
          "name": "stderr",
          "text": [
            "/usr/local/lib/python3.10/dist-packages/sklearn/neural_network/_multilayer_perceptron.py:690: ConvergenceWarning: Stochastic Optimizer: Maximum iterations (200) reached and the optimization hasn't converged yet.\n",
            "  warnings.warn(\n"
          ]
        },
        {
          "output_type": "stream",
          "name": "stdout",
          "text": [
            "hidden_layer_sizes=(50, 50), activation=relu, solver=sgd, learning_rate_init=0.001, val_accuracy=0.9257\n"
          ]
        },
        {
          "output_type": "stream",
          "name": "stderr",
          "text": [
            "/usr/local/lib/python3.10/dist-packages/sklearn/neural_network/_multilayer_perceptron.py:690: ConvergenceWarning: Stochastic Optimizer: Maximum iterations (200) reached and the optimization hasn't converged yet.\n",
            "  warnings.warn(\n"
          ]
        },
        {
          "output_type": "stream",
          "name": "stdout",
          "text": [
            "hidden_layer_sizes=(50, 50), activation=relu, solver=sgd, learning_rate_init=0.01, val_accuracy=0.9242\n"
          ]
        },
        {
          "output_type": "stream",
          "name": "stderr",
          "text": [
            "/usr/local/lib/python3.10/dist-packages/sklearn/neural_network/_multilayer_perceptron.py:690: ConvergenceWarning: Stochastic Optimizer: Maximum iterations (200) reached and the optimization hasn't converged yet.\n",
            "  warnings.warn(\n"
          ]
        },
        {
          "output_type": "stream",
          "name": "stdout",
          "text": [
            "hidden_layer_sizes=(50, 50), activation=relu, solver=adam, learning_rate_init=0.001, val_accuracy=0.9210\n",
            "hidden_layer_sizes=(50, 50), activation=relu, solver=adam, learning_rate_init=0.01, val_accuracy=0.9189\n",
            "\n",
            "Best Validation Accuracy: 0.9336666666666666\n",
            "Best Hyperparameters: {'hidden_layer_sizes': (100,), 'activation': 'relu', 'solver': 'sgd', 'learning_rate_init': 0.01}\n"
          ]
        }
      ]
    },
    {
      "cell_type": "code",
      "source": [
        "# Retrain MLPClassifier with the best hyperparameters\n",
        "best_mlp = MLPClassifier(\n",
        "    **best_params, max_iter=200, random_state=42\n",
        ")\n",
        "best_mlp.fit(X_train_scaled, y_train)\n",
        "\n",
        "# Test the model\n",
        "y_test_pred_mlp = best_mlp.predict(X_test_scaled)\n",
        "\n",
        "# Calculate metrics\n",
        "print(\"Neural Network Classification Report on Test Set:\")\n",
        "print(classification_report(y_test, y_test_pred_mlp))\n"
      ],
      "metadata": {
        "colab": {
          "base_uri": "https://localhost:8080/"
        },
        "id": "ejevcwhxcmEd",
        "outputId": "eebf8470-d523-4381-b3e8-36b31f558be8"
      },
      "execution_count": 14,
      "outputs": [
        {
          "output_type": "stream",
          "name": "stdout",
          "text": [
            "Neural Network Classification Report on Test Set:\n",
            "              precision    recall  f1-score   support\n",
            "\n",
            "           0       0.96      0.96      0.96       888\n",
            "           1       0.96      0.98      0.97      1011\n",
            "           2       0.93      0.93      0.93       893\n",
            "           3       0.92      0.90      0.91       920\n",
            "           4       0.93      0.94      0.94       877\n",
            "           5       0.91      0.90      0.90       813\n",
            "           6       0.95      0.95      0.95       888\n",
            "           7       0.94      0.94      0.94       940\n",
            "           8       0.92      0.92      0.92       877\n",
            "           9       0.91      0.92      0.92       893\n",
            "\n",
            "    accuracy                           0.94      9000\n",
            "   macro avg       0.93      0.93      0.93      9000\n",
            "weighted avg       0.94      0.94      0.94      9000\n",
            "\n"
          ]
        },
        {
          "output_type": "stream",
          "name": "stderr",
          "text": [
            "/usr/local/lib/python3.10/dist-packages/sklearn/neural_network/_multilayer_perceptron.py:690: ConvergenceWarning: Stochastic Optimizer: Maximum iterations (200) reached and the optimization hasn't converged yet.\n",
            "  warnings.warn(\n"
          ]
        }
      ]
    },
    {
      "cell_type": "markdown",
      "source": [
        "# PART 4:"
      ],
      "metadata": {
        "id": "Z1I6YxCTdb_C"
      }
    },
    {
      "cell_type": "code",
      "source": [
        "from sklearn.metrics import classification_report\n",
        "import pandas as pd\n",
        "\n",
        "# For KNN model\n",
        "knn_report = classification_report(y_test, y_test_pred_knn, output_dict=True)\n",
        "\n",
        "# For Neural Network model\n",
        "mlp_report = classification_report(y_test, y_test_pred_mlp, output_dict=True)\n",
        "\n",
        "# Extract overall metrics\n",
        "metrics = ['accuracy', 'precision', 'recall', 'f1-score']\n",
        "\n",
        "# For accuracy, we can get it directly from the reports\n",
        "knn_accuracy = knn_report['accuracy']\n",
        "mlp_accuracy = mlp_report['accuracy']\n",
        "\n",
        "# For precision, recall, and f1-score, we can use 'weighted avg'\n",
        "knn_precision = knn_report['weighted avg']['precision']\n",
        "knn_recall = knn_report['weighted avg']['recall']\n",
        "knn_f1 = knn_report['weighted avg']['f1-score']\n",
        "\n",
        "mlp_precision = mlp_report['weighted avg']['precision']\n",
        "mlp_recall = mlp_report['weighted avg']['recall']\n",
        "mlp_f1 = mlp_report['weighted avg']['f1-score']\n",
        "\n",
        "# Create a DataFrame to display the metrics\n",
        "data = {\n",
        "    'Metric': ['Accuracy', 'Precision', 'Recall', 'F1-Score'],\n",
        "    'KNN Model': [\n",
        "        f\"{knn_accuracy * 100:.2f}%\",\n",
        "        f\"{knn_precision * 100:.2f}%\",\n",
        "        f\"{knn_recall * 100:.2f}%\",\n",
        "        f\"{knn_f1 * 100:.2f}%\"\n",
        "    ],\n",
        "    'Neural Network Model': [\n",
        "        f\"{mlp_accuracy * 100:.2f}%\",\n",
        "        f\"{mlp_precision * 100:.2f}%\",\n",
        "        f\"{mlp_recall * 100:.2f}%\",\n",
        "        f\"{mlp_f1 * 100:.2f}%\"\n",
        "    ]\n",
        "}\n",
        "\n",
        "comparison_df = pd.DataFrame(data)\n",
        "print(\"Comparison of KNN and Neural Network Models:\")\n",
        "print(comparison_df)\n",
        "\n"
      ],
      "metadata": {
        "colab": {
          "base_uri": "https://localhost:8080/"
        },
        "id": "SZEG4vwodVBE",
        "outputId": "a6c53a01-ee4c-4381-b35d-595ccc0f483e"
      },
      "execution_count": 15,
      "outputs": [
        {
          "output_type": "stream",
          "name": "stdout",
          "text": [
            "Comparison of KNN and Neural Network Models:\n",
            "      Metric KNN Model Neural Network Model\n",
            "0   Accuracy    92.64%               93.56%\n",
            "1  Precision    92.68%               93.55%\n",
            "2     Recall    92.64%               93.56%\n",
            "3   F1-Score    92.62%               93.55%\n"
          ]
        }
      ]
    }
  ]
}